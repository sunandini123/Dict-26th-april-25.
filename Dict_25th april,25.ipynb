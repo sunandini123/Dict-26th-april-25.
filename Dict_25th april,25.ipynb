{
 "cells": [
  {
   "cell_type": "markdown",
   "id": "b22d7dcc-4420-45e6-b1aa-25c47d784180",
   "metadata": {},
   "source": [
    "# DICT"
   ]
  },
  {
   "cell_type": "code",
   "execution_count": null,
   "id": "5a14b783-9751-4d97-9857-9d5888d6d96a",
   "metadata": {},
   "outputs": [],
   "source": [
    "Dictionary is a mutable data type in Python.\n",
    "A python dictionary is a collection of key and value pairs separated by a colon (:)\n",
    "in curly braces {}.\n",
    "Keys must be unique in a dictionary, duplicate values are allowed"
   ]
  },
  {
   "cell_type": "markdown",
   "id": "4e4b4787-2c36-4e91-b8aa-d07852dd03eb",
   "metadata": {},
   "source": [
    "# Create Dictionary"
   ]
  },
  {
   "cell_type": "code",
   "execution_count": 5,
   "id": "9dfb1109-516f-41b5-b0ec-a7efcffb8847",
   "metadata": {},
   "outputs": [
    {
     "data": {
      "text/plain": [
       "{}"
      ]
     },
     "execution_count": 5,
     "metadata": {},
     "output_type": "execute_result"
    }
   ],
   "source": [
    "mydict=dict() #empty dictionary\n",
    "mydict"
   ]
  },
  {
   "cell_type": "code",
   "execution_count": 7,
   "id": "38eeac8b-0574-43d8-b239-a01692d62de7",
   "metadata": {},
   "outputs": [
    {
     "data": {
      "text/plain": [
       "{1: 'one', 2: 'two', 3: 'three'}"
      ]
     },
     "execution_count": 7,
     "metadata": {},
     "output_type": "execute_result"
    }
   ],
   "source": [
    "mydict = {1:'one' , 2:'two' , 3:'three'} # dictionary with integer keys{}\n",
    "mydict"
   ]
  },
  {
   "cell_type": "code",
   "execution_count": 9,
   "id": "bbabb7ad-3b5d-4127-8cdd-97fa656b5441",
   "metadata": {},
   "outputs": [
    {
     "data": {
      "text/plain": [
       "{1: 'one', 2: 'two', 3: 'three'}"
      ]
     },
     "execution_count": 9,
     "metadata": {},
     "output_type": "execute_result"
    }
   ],
   "source": [
    "mydict=({1:'one' , 2:'two' , 3:'three'}) # # dictionary using dict()\n",
    "mydict"
   ]
  },
  {
   "cell_type": "code",
   "execution_count": 11,
   "id": "d0b5d736-c2f7-41e6-b4ef-d4cc8ee8dad1",
   "metadata": {},
   "outputs": [
    {
     "data": {
      "text/plain": [
       "{'A': 'one', 'B': 'two', 'C': 'three'}"
      ]
     },
     "execution_count": 11,
     "metadata": {},
     "output_type": "execute_result"
    }
   ],
   "source": [
    "mydict = {'A':'one' , 'B':'two' , 'C':'three'} # dictionary with character keys\n",
    "mydict"
   ]
  },
  {
   "cell_type": "code",
   "execution_count": 13,
   "id": "d5263c5c-2049-4a0f-bfed-ca8df6702df6",
   "metadata": {},
   "outputs": [
    {
     "data": {
      "text/plain": [
       "dict_keys(['A', 'B', 'C'])"
      ]
     },
     "execution_count": 13,
     "metadata": {},
     "output_type": "execute_result"
    }
   ],
   "source": [
    "mydict.keys() #  Return Dictionary Keys using keys() method"
   ]
  },
  {
   "cell_type": "code",
   "execution_count": 15,
   "id": "647c81b6-3879-452a-87f9-01b97ae87085",
   "metadata": {},
   "outputs": [
    {
     "data": {
      "text/plain": [
       "dict_values(['one', 'two', 'three'])"
      ]
     },
     "execution_count": 15,
     "metadata": {},
     "output_type": "execute_result"
    }
   ],
   "source": [
    "mydict.values() ## Return Dictionary Values using values() method"
   ]
  },
  {
   "cell_type": "code",
   "execution_count": 17,
   "id": "9c8d5c08-251f-4c27-814d-be6630329648",
   "metadata": {},
   "outputs": [
    {
     "data": {
      "text/plain": [
       "dict_items([('A', 'one'), ('B', 'two'), ('C', 'three')])"
      ]
     },
     "execution_count": 17,
     "metadata": {},
     "output_type": "execute_result"
    }
   ],
   "source": [
    "mydict.items()"
   ]
  },
  {
   "cell_type": "code",
   "execution_count": 25,
   "id": "dddb1b06-7aa5-4671-8d55-98959f88cf1b",
   "metadata": {},
   "outputs": [
    {
     "data": {
      "text/plain": [
       "{'A': 'one',\n",
       " 'B': 'two',\n",
       " 'C': 'three',\n",
       " 'D': ['ram', 'sita', 'govind'],\n",
       " 'e': ('sita', 'raghu', 'shashank')}"
      ]
     },
     "execution_count": 25,
     "metadata": {},
     "output_type": "execute_result"
    }
   ],
   "source": [
    "mydict= {'A':'one' , 'B':'two' ,'C':'three', 'D':['ram','sita','govind'],'e': ('sita','raghu','shashank')}\n",
    "mydict\n",
    "\n",
    "## dict with mix of list elements and tuple elements"
   ]
  },
  {
   "cell_type": "code",
   "execution_count": 27,
   "id": "1417256a-8190-49e3-9deb-bd89cc7cb863",
   "metadata": {},
   "outputs": [
    {
     "data": {
      "text/plain": [
       "{'a': None, 'c': None, 'b': None, 'd': None}"
      ]
     },
     "execution_count": 27,
     "metadata": {},
     "output_type": "execute_result"
    }
   ],
   "source": [
    "keys = {'a' , 'b' , 'c' , 'd'}\n",
    "mydict3 = dict.fromkeys(keys) # Create a dictionary from a sequence of keys\n",
    "mydict3"
   ]
  },
  {
   "cell_type": "code",
   "execution_count": 31,
   "id": "3b265b41-41c6-43ba-a13d-d2c1a21726c4",
   "metadata": {},
   "outputs": [
    {
     "data": {
      "text/plain": [
       "{'a': 10, 'c': 10, 'b': 10, 'd': 10}"
      ]
     },
     "execution_count": 31,
     "metadata": {},
     "output_type": "execute_result"
    }
   ],
   "source": [
    "keys = {'a' , 'b' , 'c' , 'd'} ## Create a dictionary from a sequence of keys\n",
    "value = 10\n",
    "mydict3 = dict.fromkeys(keys , value)\n",
    "mydict3"
   ]
  },
  {
   "cell_type": "code",
   "execution_count": 33,
   "id": "91345e7e-697c-454c-97c9-835ee1ffc117",
   "metadata": {},
   "outputs": [
    {
     "data": {
      "text/plain": [
       "{'a': [10, 20, 30], 'c': [10, 20, 30], 'b': [10, 20, 30], 'd': [10, 20, 30]}"
      ]
     },
     "execution_count": 33,
     "metadata": {},
     "output_type": "execute_result"
    }
   ],
   "source": [
    "keys = {'a' , 'b' , 'c' , 'd'}\n",
    "value = [10,20,30]\n",
    "mydict3 = dict.fromkeys(keys , value) # Create a dictionary from a sequence of\n",
    "mydict3"
   ]
  },
  {
   "cell_type": "code",
   "execution_count": 35,
   "id": "150f6b3f-9b82-408a-a832-128076d5a86f",
   "metadata": {},
   "outputs": [
    {
     "data": {
      "text/plain": [
       "{'a': [10, 20, 30, 40],\n",
       " 'c': [10, 20, 30, 40],\n",
       " 'b': [10, 20, 30, 40],\n",
       " 'd': [10, 20, 30, 40]}"
      ]
     },
     "execution_count": 35,
     "metadata": {},
     "output_type": "execute_result"
    }
   ],
   "source": [
    "value.append(40)\n",
    "mydict3"
   ]
  },
  {
   "cell_type": "code",
   "execution_count": 37,
   "id": "34168b41-7a41-486a-8689-3d6ac19820ef",
   "metadata": {},
   "outputs": [
    {
     "data": {
      "text/plain": [
       "{'A': 'one',\n",
       " 'B': 'two',\n",
       " 'C': 'three',\n",
       " 'D': ['ram', 'sita', 'govind'],\n",
       " 'e': ('sita', 'raghu', 'shashank')}"
      ]
     },
     "execution_count": 37,
     "metadata": {},
     "output_type": "execute_result"
    }
   ],
   "source": [
    "mydict"
   ]
  },
  {
   "cell_type": "code",
   "execution_count": 41,
   "id": "c18a4e83-26fd-42d9-84e2-92fded2440a2",
   "metadata": {},
   "outputs": [
    {
     "data": {
      "text/plain": [
       "{1: 'one', 2: 'two', 3: 'three', 4: 'four'}"
      ]
     },
     "execution_count": 41,
     "metadata": {},
     "output_type": "execute_result"
    }
   ],
   "source": [
    "mydict2={1:'one' , 2:'two' , 3:'three' , 4:'four'}\n",
    "mydict2"
   ]
  },
  {
   "cell_type": "code",
   "execution_count": 43,
   "id": "e53ec350-595e-45d8-a41f-481e431a8143",
   "metadata": {},
   "outputs": [
    {
     "data": {
      "text/plain": [
       "'one'"
      ]
     },
     "execution_count": 43,
     "metadata": {},
     "output_type": "execute_result"
    }
   ],
   "source": [
    "mydict2[1]"
   ]
  },
  {
   "cell_type": "code",
   "execution_count": 45,
   "id": "90096167-d1cf-47be-970c-0dee29cb041f",
   "metadata": {},
   "outputs": [
    {
     "data": {
      "text/plain": [
       "'one'"
      ]
     },
     "execution_count": 45,
     "metadata": {},
     "output_type": "execute_result"
    }
   ],
   "source": [
    "mydict2.get(1)"
   ]
  },
  {
   "cell_type": "code",
   "execution_count": 47,
   "id": "210db0b7-8ed3-4d9a-85db-fcd91fde900e",
   "metadata": {},
   "outputs": [
    {
     "data": {
      "text/plain": [
       "{'Name': 'Asif', 'ID': 74123, 'DOB': 1991, 'job': 'Analyst'}"
      ]
     },
     "execution_count": 47,
     "metadata": {},
     "output_type": "execute_result"
    }
   ],
   "source": [
    "mydict3 = {'Name':'Asif' , 'ID': 74123 , 'DOB': 1991 , 'job' :'Analyst'}\n",
    "mydict3"
   ]
  },
  {
   "cell_type": "code",
   "execution_count": 53,
   "id": "4ac1c7ab-9c49-49ed-a47e-509302c28194",
   "metadata": {},
   "outputs": [
    {
     "data": {
      "text/plain": [
       "'Asif'"
      ]
     },
     "execution_count": 53,
     "metadata": {},
     "output_type": "execute_result"
    }
   ],
   "source": [
    "mydict3['Name'] #access item using []"
   ]
  },
  {
   "cell_type": "code",
   "execution_count": 57,
   "id": "facaff65-57be-4a32-beb5-b8f489b667bc",
   "metadata": {},
   "outputs": [
    {
     "data": {
      "text/plain": [
       "'Analyst'"
      ]
     },
     "execution_count": 57,
     "metadata": {},
     "output_type": "execute_result"
    }
   ],
   "source": [
    "mydict3.get('job') ## Access item using get() method"
   ]
  },
  {
   "cell_type": "markdown",
   "id": "fbcfe28a-dd99-4248-9ea3-65e9c29a9d18",
   "metadata": {},
   "source": [
    "# ADD , REMOVE & CHANGE ITEMS "
   ]
  },
  {
   "cell_type": "code",
   "execution_count": 91,
   "id": "d2315af3-df4d-4f32-ab2f-e1f423713a4b",
   "metadata": {},
   "outputs": [
    {
     "data": {
      "text/plain": [
       "{'Name': 'Asif', 'ID': 12345, 'DOB': 1991, 'Address': 'Hilsinki'}"
      ]
     },
     "execution_count": 91,
     "metadata": {},
     "output_type": "execute_result"
    }
   ],
   "source": [
    "mydict3={'Name':'Asif' , 'ID': 12345 , 'DOB': 1991 , 'Address' : 'Hilsinki'}\n",
    "mydict3"
   ]
  },
  {
   "cell_type": "code",
   "execution_count": 93,
   "id": "fc3cad43-bb70-41d5-98fa-db1350290f5d",
   "metadata": {},
   "outputs": [
    {
     "data": {
      "text/plain": [
       "{'Name': 'Asif', 'ID': 12345, 'DOB': 1992, 'Address': 'Delhi'}"
      ]
     },
     "execution_count": 93,
     "metadata": {},
     "output_type": "execute_result"
    }
   ],
   "source": [
    "mydict3['DOB'] = 1992 # Changing Dictionary Items\n",
    "mydict3['Address'] = 'Delhi'\n",
    "mydict3"
   ]
  },
  {
   "cell_type": "code",
   "execution_count": 95,
   "id": "5dfd5f4d-468f-4451-8319-bdada8a9e4d5",
   "metadata": {},
   "outputs": [
    {
     "data": {
      "text/plain": [
       "{'Name': 'Asif',\n",
       " 'ID': 12345,\n",
       " 'DOB': 1992,\n",
       " 'Address': 'Delhi',\n",
       " 'Job': 'Analyst'}"
      ]
     },
     "execution_count": 95,
     "metadata": {},
     "output_type": "execute_result"
    }
   ],
   "source": [
    "mydict3['Job'] = 'Analyst' # Adding items in the dictionary\n",
    "mydict3"
   ]
  },
  {
   "cell_type": "code",
   "execution_count": 109,
   "id": "eda24b2b-28ee-4a1c-8cd4-23adfc0da7c8",
   "metadata": {},
   "outputs": [
    {
     "data": {
      "text/plain": [
       "{'Name': 'Asif', 'ID': 12345, 'DOB': 1992, 'Address': 'Delhi'}"
      ]
     },
     "execution_count": 109,
     "metadata": {},
     "output_type": "execute_result"
    }
   ],
   "source": [
    "mydict3"
   ]
  },
  {
   "cell_type": "code",
   "execution_count": 111,
   "id": "674e0c01-83a9-4701-821b-9aab454d0e5f",
   "metadata": {},
   "outputs": [
    {
     "data": {
      "text/plain": [
       "{'Name': 'Asif', 'ID': 12345, 'DOB': 1992}"
      ]
     },
     "execution_count": 111,
     "metadata": {},
     "output_type": "execute_result"
    }
   ],
   "source": [
    "mydict3.pop('Address') \n",
    "mydict3"
   ]
  },
  {
   "cell_type": "code",
   "execution_count": 113,
   "id": "ae22856b-20b8-4275-aab4-39e9a249da3d",
   "metadata": {},
   "outputs": [
    {
     "data": {
      "text/plain": [
       "{'Name': 'Asif', 'ID': 12345, 'DOB': 1992}"
      ]
     },
     "execution_count": 113,
     "metadata": {},
     "output_type": "execute_result"
    }
   ],
   "source": [
    "mydict3"
   ]
  },
  {
   "cell_type": "code",
   "execution_count": 117,
   "id": "97dd41a9-bfc8-4def-afca-261c140ce83d",
   "metadata": {},
   "outputs": [
    {
     "data": {
      "text/plain": [
       "{'Name': 'Asif', 'ID': 12345}"
      ]
     },
     "execution_count": 117,
     "metadata": {},
     "output_type": "execute_result"
    }
   ],
   "source": [
    "mydict3.popitem() ## A random item is removed\n",
    "mydict3"
   ]
  },
  {
   "cell_type": "code",
   "execution_count": 119,
   "id": "1f3ac526-8e64-48c3-8a09-d5caa81ae3aa",
   "metadata": {},
   "outputs": [
    {
     "data": {
      "text/plain": [
       "{'Name': 'Asif', 'ID': 12345}"
      ]
     },
     "execution_count": 119,
     "metadata": {},
     "output_type": "execute_result"
    }
   ],
   "source": [
    "mydict3"
   ]
  },
  {
   "cell_type": "code",
   "execution_count": 121,
   "id": "bd05375e-51e9-4f90-881e-b41ff3c2d3b7",
   "metadata": {},
   "outputs": [],
   "source": [
    "del mydict3"
   ]
  },
  {
   "cell_type": "code",
   "execution_count": 123,
   "id": "bbb62036-8823-42ac-ab71-0940b189507a",
   "metadata": {},
   "outputs": [
    {
     "ename": "NameError",
     "evalue": "name 'mydict3' is not defined",
     "output_type": "error",
     "traceback": [
      "\u001b[0;31m---------------------------------------------------------------------------\u001b[0m",
      "\u001b[0;31mNameError\u001b[0m                                 Traceback (most recent call last)",
      "Cell \u001b[0;32mIn[123], line 1\u001b[0m\n\u001b[0;32m----> 1\u001b[0m mydict3\n",
      "\u001b[0;31mNameError\u001b[0m: name 'mydict3' is not defined"
     ]
    }
   ],
   "source": [
    "mydict3"
   ]
  },
  {
   "cell_type": "markdown",
   "id": "ace22b01-a839-4b51-a33c-82f0c380b3d6",
   "metadata": {},
   "source": [
    "## COPY DICTIONARY "
   ]
  },
  {
   "cell_type": "code",
   "execution_count": 126,
   "id": "6e7d9fde-02b4-465e-b14b-e1fe717c61e1",
   "metadata": {},
   "outputs": [
    {
     "data": {
      "text/plain": [
       "{'Name': 'Asif', 'ID': 12345, 'DOB': 1991, 'Address': 'Hilsinki'}"
      ]
     },
     "execution_count": 126,
     "metadata": {},
     "output_type": "execute_result"
    }
   ],
   "source": [
    "mydict8 = {'Name':'Asif' , 'ID': 12345 , 'DOB': 1991 , 'Address' : 'Hilsinki'}\n",
    "mydict8"
   ]
  },
  {
   "cell_type": "code",
   "execution_count": 128,
   "id": "9a0f9d6e-df25-4644-9427-8c9fd90136e1",
   "metadata": {},
   "outputs": [
    {
     "data": {
      "text/plain": [
       "{'Name': 'Asif', 'ID': 12345, 'DOB': 1991, 'Address': 'Hilsinki'}"
      ]
     },
     "execution_count": 128,
     "metadata": {},
     "output_type": "execute_result"
    }
   ],
   "source": [
    "mydict9=mydict8\n",
    "mydict9"
   ]
  },
  {
   "cell_type": "code",
   "execution_count": 130,
   "id": "cee68851-c365-49fc-85da-5377978da59a",
   "metadata": {},
   "outputs": [
    {
     "data": {
      "text/plain": [
       "(5497624448, 5497624448)"
      ]
     },
     "execution_count": 130,
     "metadata": {},
     "output_type": "execute_result"
    }
   ],
   "source": [
    "id(mydict8),id(mydict9) # The address of both mydict & mydict1 will be the same"
   ]
  },
  {
   "cell_type": "code",
   "execution_count": 132,
   "id": "b0b6b785-0696-45d1-8e8f-3956350c5071",
   "metadata": {},
   "outputs": [],
   "source": [
    "mydict6=mydict8.copy()"
   ]
  },
  {
   "cell_type": "code",
   "execution_count": 134,
   "id": "0b8ce8e3-ce92-40cf-a49a-1170588ce5be",
   "metadata": {},
   "outputs": [
    {
     "data": {
      "text/plain": [
       "{'Name': 'Asif', 'ID': 12345, 'DOB': 1991, 'Address': 'Hilsinki'}"
      ]
     },
     "execution_count": 134,
     "metadata": {},
     "output_type": "execute_result"
    }
   ],
   "source": [
    "mydict6"
   ]
  },
  {
   "cell_type": "code",
   "execution_count": 136,
   "id": "11eb01a1-aeec-4101-9200-b95263734285",
   "metadata": {},
   "outputs": [
    {
     "data": {
      "text/plain": [
       "(5497687232, 5497624448)"
      ]
     },
     "execution_count": 136,
     "metadata": {},
     "output_type": "execute_result"
    }
   ],
   "source": [
    "id(mydict6),id(mydict8) ## The address of mydict6 will be different from mydict8 because copy"
   ]
  },
  {
   "cell_type": "code",
   "execution_count": 138,
   "id": "65b65cc2-ca59-4010-8fbf-4e2221e53893",
   "metadata": {},
   "outputs": [
    {
     "data": {
      "text/plain": [
       "{'Name': 'Asif', 'ID': 12345, 'DOB': 1991, 'Address': 'Mumbai'}"
      ]
     },
     "execution_count": 138,
     "metadata": {},
     "output_type": "execute_result"
    }
   ],
   "source": [
    "mydict8['Address']='Mumbai'\n",
    "mydict8"
   ]
  },
  {
   "cell_type": "code",
   "execution_count": 140,
   "id": "dd696e23-88ea-4e60-86a5-a9b14e01149a",
   "metadata": {},
   "outputs": [
    {
     "data": {
      "text/plain": [
       "{'Name': 'Asif', 'ID': 12345, 'DOB': 1991, 'Address': 'Mumbai'}"
      ]
     },
     "execution_count": 140,
     "metadata": {},
     "output_type": "execute_result"
    }
   ],
   "source": [
    "mydict9"
   ]
  },
  {
   "cell_type": "code",
   "execution_count": 142,
   "id": "0a8b1218-5c54-47a5-8bb7-03fdb1684d57",
   "metadata": {},
   "outputs": [
    {
     "data": {
      "text/plain": [
       "{'Name': 'Asif', 'ID': 12345, 'DOB': 1991, 'Address': 'Hilsinki'}"
      ]
     },
     "execution_count": 142,
     "metadata": {},
     "output_type": "execute_result"
    }
   ],
   "source": [
    "mydict6 ## Copy of list won't be impacted due to the changes made in the original di"
   ]
  },
  {
   "cell_type": "markdown",
   "id": "70359b84-b897-4df5-b291-a1de3517c8a8",
   "metadata": {},
   "source": [
    "## LOOP IN DICT"
   ]
  },
  {
   "cell_type": "code",
   "execution_count": 147,
   "id": "26b039e2-b1f9-4b73-b023-2a95f79cadf5",
   "metadata": {},
   "outputs": [
    {
     "data": {
      "text/plain": [
       "{'Name': 'Asif', 'ID': 12345, 'DOB': 1991, 'Address': 'Mumbai'}"
      ]
     },
     "execution_count": 147,
     "metadata": {},
     "output_type": "execute_result"
    }
   ],
   "source": [
    "mydict8"
   ]
  },
  {
   "cell_type": "code",
   "execution_count": 149,
   "id": "8808df26-6b5b-4c88-88df-9ce7ae2dd350",
   "metadata": {},
   "outputs": [
    {
     "name": "stdout",
     "output_type": "stream",
     "text": [
      "Name\n",
      "ID\n",
      "DOB\n",
      "Address\n"
     ]
    }
   ],
   "source": [
    "for i in mydict8:    #key \n",
    "    print(i)"
   ]
  },
  {
   "cell_type": "code",
   "execution_count": 153,
   "id": "d47a456c-08a7-43b0-819b-cbd4faff7b6a",
   "metadata": {},
   "outputs": [
    {
     "name": "stdout",
     "output_type": "stream",
     "text": [
      "Name : Asif\n",
      "ID : 12345\n",
      "DOB : 1991\n",
      "Address : Mumbai\n"
     ]
    }
   ],
   "source": [
    "for i in mydict8:   ## Key & value pair\n",
    "    print(i,':',mydict8[i])"
   ]
  },
  {
   "cell_type": "code",
   "execution_count": 157,
   "id": "f8d50c8f-8d71-4a9a-bc21-aa54f21cdcc9",
   "metadata": {},
   "outputs": [
    {
     "name": "stdout",
     "output_type": "stream",
     "text": [
      "Asif\n",
      "12345\n",
      "1991\n",
      "Mumbai\n"
     ]
    }
   ],
   "source": [
    "for i in mydict8:     #returns only values \n",
    "    print(mydict8[i])"
   ]
  },
  {
   "cell_type": "markdown",
   "id": "f03776f7-1c16-46fd-bf62-7876193000f2",
   "metadata": {},
   "source": [
    "# DICTIONARY MEMBERSHIP"
   ]
  },
  {
   "cell_type": "code",
   "execution_count": 160,
   "id": "dc9ac331-eb05-48ea-ab04-169922ce3ae1",
   "metadata": {},
   "outputs": [
    {
     "data": {
      "text/plain": [
       "{'Name': 'Asif', 'ID': 12345, 'DOB': 1991, 'Address': 'Mumbai'}"
      ]
     },
     "execution_count": 160,
     "metadata": {},
     "output_type": "execute_result"
    }
   ],
   "source": [
    "mydict8"
   ]
  },
  {
   "cell_type": "code",
   "execution_count": 162,
   "id": "bf4d800e-eaa1-497f-aa13-68481bc60f34",
   "metadata": {},
   "outputs": [
    {
     "data": {
      "text/plain": [
       "True"
      ]
     },
     "execution_count": 162,
     "metadata": {},
     "output_type": "execute_result"
    }
   ],
   "source": [
    "'Name' in mydict8 #Test if a key is in a dictionary or not."
   ]
  },
  {
   "cell_type": "code",
   "execution_count": 164,
   "id": "72ef9119-c732-44d4-a29d-7d7ff38f7c75",
   "metadata": {},
   "outputs": [
    {
     "data": {
      "text/plain": [
       "False"
      ]
     },
     "execution_count": 164,
     "metadata": {},
     "output_type": "execute_result"
    }
   ],
   "source": [
    "'Asif' in mydict8 #Membership test can be only done for keys."
   ]
  },
  {
   "cell_type": "code",
   "execution_count": 166,
   "id": "1a0db474-5076-4277-b727-3eabd2a42d49",
   "metadata": {},
   "outputs": [
    {
     "data": {
      "text/plain": [
       "True"
      ]
     },
     "execution_count": 166,
     "metadata": {},
     "output_type": "execute_result"
    }
   ],
   "source": [
    "'ID' in mydict8"
   ]
  },
  {
   "cell_type": "code",
   "execution_count": 168,
   "id": "10218555-7770-485a-9df1-2221972fe469",
   "metadata": {},
   "outputs": [
    {
     "data": {
      "text/plain": [
       "False"
      ]
     },
     "execution_count": 168,
     "metadata": {},
     "output_type": "execute_result"
    }
   ],
   "source": [
    "'Job' in mydict8"
   ]
  },
  {
   "cell_type": "markdown",
   "id": "929dd3d5-8066-4979-9688-8fda04f3b851",
   "metadata": {},
   "source": [
    "# All/Any"
   ]
  },
  {
   "cell_type": "code",
   "execution_count": 171,
   "id": "0ba1cf67-6a1b-481d-ac01-774c594ac32e",
   "metadata": {},
   "outputs": [
    {
     "data": {
      "text/plain": [
       "{'Name': 'Asif', 'ID': 12345, 'DOB': 1991, 'Address': 'Mumbai'}"
      ]
     },
     "execution_count": 171,
     "metadata": {},
     "output_type": "execute_result"
    }
   ],
   "source": [
    "mydict8"
   ]
  },
  {
   "cell_type": "code",
   "execution_count": 177,
   "id": "3d89dc0a-9ae4-4dfe-bf61-df105dc3b127",
   "metadata": {},
   "outputs": [
    {
     "data": {
      "text/plain": [
       "True"
      ]
     },
     "execution_count": 177,
     "metadata": {},
     "output_type": "execute_result"
    }
   ],
   "source": [
    "all(mydict8)"
   ]
  },
  {
   "cell_type": "code",
   "execution_count": null,
   "id": "21b39ca4-9b97-49f0-92bf-de6f7bb6eb42",
   "metadata": {},
   "outputs": [],
   "source": []
  }
 ],
 "metadata": {
  "kernelspec": {
   "display_name": "Python [conda env:base] *",
   "language": "python",
   "name": "conda-base-py"
  },
  "language_info": {
   "codemirror_mode": {
    "name": "ipython",
    "version": 3
   },
   "file_extension": ".py",
   "mimetype": "text/x-python",
   "name": "python",
   "nbconvert_exporter": "python",
   "pygments_lexer": "ipython3",
   "version": "3.12.7"
  }
 },
 "nbformat": 4,
 "nbformat_minor": 5
}
